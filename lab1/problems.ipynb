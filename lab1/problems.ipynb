{
 "cells": [
  {
   "cell_type": "markdown",
   "metadata": {
    "pycharm": {
     "name": "#%% md\n"
    }
   },
   "source": [
    "# Data Wrangling Exercises\n",
    "\n",
    "\n",
    "## Introduction\n",
    "\n",
    "Data wrangling is the process of cleaning, transforming, and organizing data to make it more suitable for analysis. It is a critical step in any data analysis project, as it ensures that the data is accurate, consistent, and complete.\n",
    "\n",
    "These exercises are designed to provide practice in data wrangling skills using a real-world dataset. The dataset used in these exercises is the Slovenian Natural Language Inference dataset (SI-NLI), which contains labeled examples of text pairs with corresponding labels of entailment, contradiction, or neutral.\n",
    "\n",
    "The exercises cover a range of data wrangling techniques, including importing data, performing basic statistics, subsetting observations and variables, creating new variables, grouping data, and combining datasets."
   ]
  },
  {
   "cell_type": "markdown",
   "metadata": {
    "pycharm": {
     "name": "#%% md\n"
    }
   },
   "source": [
    "## Get data\n",
    "\n",
    "1. Download SI-NLI from [link](https://www.clarin.si/repository/xmlui/handle/11356/1707).\n",
    "2. Load libraries.\n",
    "3. Import ```train.tsv``` file."
   ]
  },
  {
   "cell_type": "code",
   "execution_count": 3,
   "metadata": {},
   "outputs": [],
   "source": [
    "# import required libraries\n",
    "import numpy\n",
    "import pandas"
   ]
  },
  {
   "cell_type": "code",
   "execution_count": 5,
   "metadata": {},
   "outputs": [],
   "source": [
    "# import train.tsv file\n",
    "train = pandas.read_csv('SI-NLI/train.tsv', sep='\\t')"
   ]
  },
  {
   "cell_type": "code",
   "execution_count": 9,
   "metadata": {},
   "outputs": [
    {
     "name": "stdout",
     "output_type": "stream",
     "text": [
      "  pair_id                                            premise  \\\n",
      "0      P0  Vendar se je anglikanska večina v grofijah na ...   \n",
      "1      P1  INŠTRUKTOR IZ PRTLJAŽNIKA V DRUGO POTOVALKO PR...   \n",
      "2      P2  biotska raznovrstnost – v splošnem je to razno...   \n",
      "3      P3  Preroški pomen: Če v sanjah bedite, je to na s...   \n",
      "4      P4  Jeseni so dnevi krajši, stemni se že dokaj zgo...   \n",
      "\n",
      "                                          hypothesis annotation_1  \\\n",
      "0  A na glasovanju o priključitvi ozemlja k Sever...            E   \n",
      "1  Učitelj je vzel iz prtljažnika iz prve potoval...            C   \n",
      "2  Četudi je biodiverziteta pomemben del biološke...            C   \n",
      "3  V preroškem smislu budnost v sanjah nakazuje o...            E   \n",
      "4  V krajših jesenskih dneh tema nastopi relativn...            E   \n",
      "\n",
      "                comment_1 annotator1_id annotation_2  \\\n",
      "0                     NaN   annotator_C            E   \n",
      "1                     NaN   annotator_B            N   \n",
      "2                     NaN   annotator_G            N   \n",
      "3  Pomanjkanje konteksta?   annotator_C            E   \n",
      "4                     NaN   annotator_C            E   \n",
      "\n",
      "                                       comment_2 annotator2_id annotation_3  \\\n",
      "0                                            NaN   annotator_A          NaN   \n",
      "1                                            NaN   annotator_A          NaN   \n",
      "2  Morda neustrezen primer? (zdi se kot alineja)   annotator_A          NaN   \n",
      "3                                            NaN   annotator_A          NaN   \n",
      "4                                            NaN   annotator_A          NaN   \n",
      "\n",
      "  comment_3 annotator3_id annotation_FINAL          label  \n",
      "0       NaN           NaN                E     entailment  \n",
      "1       NaN           NaN              NaN  contradiction  \n",
      "2       NaN           NaN              NaN  contradiction  \n",
      "3       NaN           NaN                E     entailment  \n",
      "4       NaN           NaN                E     entailment  \n"
     ]
    }
   ],
   "source": [
    "# print the first 5 rows of the train.tsv file\n",
    "print(train.head())"
   ]
  },
  {
   "cell_type": "markdown",
   "metadata": {
    "pycharm": {
     "name": "#%% md\n"
    }
   },
   "source": [
    "## Basic statistics\n",
    "\n",
    "1. How many examples are in a dataframe?\n",
    "2. How many variables are in a dataframe?\n",
    "3. Count values in the ```label``` column.\n",
    "4. Are there any missing values in the data?\n",
    "5. Count the number of missing values per column."
   ]
  },
  {
   "cell_type": "code",
   "execution_count": null,
   "metadata": {},
   "outputs": [
    {
     "name": "stdout",
     "output_type": "stream",
     "text": [
      "Number of examples in the dataframe:  4392\n",
      "Number of variables in the dataframe:  14\n",
      "Count of values in the label column:  label\n",
      "entailment       1518\n",
      "contradiction    1448\n",
      "neutral          1426\n",
      "Name: count, dtype: int64\n",
      "Are there any missing values in the dataframe:  True\n",
      "Number of missing values per column:  pair_id                0\n",
      "premise                0\n",
      "hypothesis             0\n",
      "annotation_1          91\n",
      "comment_1           4349\n",
      "annotator1_id         91\n",
      "annotation_2          91\n",
      "comment_2           4274\n",
      "annotator2_id         91\n",
      "annotation_3        3981\n",
      "comment_3           4384\n",
      "annotator3_id       3976\n",
      "annotation_FINAL     508\n",
      "label                  0\n",
      "dtype: int64\n"
     ]
    }
   ],
   "source": [
    "# How many examples are in the dataframe?\n",
    "print(\"Number of examples in the dataframe: \", len(train))\n",
    "\n",
    "# How many variables are in the dataframe?\n",
    "print(\"Number of variables in the dataframe: \", len(train.columns))\n",
    "\n",
    "# Count values in the label column\n",
    "print(\"Count of values in the label column: \", train['label'].value_counts())\n",
    "\n",
    "# are there any missing values in the dataframe?\n",
    "print(\"Are there any missing values in the dataframe: \", train.isnull().values.any())\n",
    "\n",
    "# count the number of missing values per column\n",
    "print(\"Number of missing values per column: \", train.isnull().sum())\n",
    "# train.isnull() returns a dataframe with True/False values, and sum() counts the number of True values in each column"
   ]
  },
  {
   "cell_type": "markdown",
   "metadata": {
    "pycharm": {
     "name": "#%% md\n"
    }
   },
   "source": [
    "## Subset observations and variables\n",
    "\n",
    "1. Select ```premise``` column and store it in a list.\n",
    "2. Print first 3 rows from the first 3 columns.\n",
    "3. Select ```pair_id```, ```premise```, ```hypothesis```, ```label``` columns and save them into ```train_dataset``` variable.\n",
    "4. Drop ```pair_id``` column.\n",
    "5. Convert all columns to uppercase.\n",
    "6. Replace ```_``` with ```-``` in column names.\n",
    "7. Select rows that belong to the ```neutral``` label.\n",
    "8. Select last 30 rows.\n",
    "9. Select rows with ```hypothesis``` longer than 100 characters.\n",
    "10. Select rows with ```hypothesis``` longer than 100 characters and belong to the ```neutral``` label.\n",
    "11. Select the row with the longest ```hypothesis```.\n",
    "12. Remove rows that contain ```č```, ```š```, ```ž``` in ```premise``` or ```hypothesis```.\n",
    "13. Remove rows that contain at least one missing value.\n",
    "14. Remove the column with the most missing values."
   ]
  },
  {
   "cell_type": "code",
   "execution_count": 24,
   "metadata": {},
   "outputs": [
    {
     "name": "stdout",
     "output_type": "stream",
     "text": [
      "  pair_id                                            premise  \\\n",
      "0      P0  Vendar se je anglikanska večina v grofijah na ...   \n",
      "1      P1  INŠTRUKTOR IZ PRTLJAŽNIKA V DRUGO POTOVALKO PR...   \n",
      "2      P2  biotska raznovrstnost – v splošnem je to razno...   \n",
      "\n",
      "                                          hypothesis  \n",
      "0  A na glasovanju o priključitvi ozemlja k Sever...  \n",
      "1  Učitelj je vzel iz prtljažnika iz prve potoval...  \n",
      "2  Četudi je biodiverziteta pomemben del biološke...  \n",
      "\n",
      " Index(['PREMISE', 'HYPOTHESIS', 'LABEL'], dtype='object')\n"
     ]
    }
   ],
   "source": [
    "# select premise column and store it in a list\n",
    "premise = train['premise'].tolist()\n",
    "\n",
    "# print first 3 rows from the first 3 columns\n",
    "print(train.iloc[:3, [0, 1, 2]])\n",
    "\n",
    "\n",
    "# select pair_id, premise, hypothesis and label columns and save them into train_dataset variable\n",
    "train_dataset = train[['pair_id', 'premise', 'hypothesis', 'label']]\n",
    "\n",
    "# drop pair_id column\n",
    "train_dataset = train_dataset.drop(columns=['pair_id'])\n",
    "\n",
    "# convert all columns to uppercase\n",
    "train_dataset.columns = [i.upper() for i in train_dataset.columns]\n",
    "train_dataset.head()\n",
    "\n",
    "# replace _ with - in column names\n",
    "train_dataset.columns = train_dataset.columns.str.replace('_', '-')\n",
    "print(\"\\n\", train_dataset.columns)"
   ]
  },
  {
   "cell_type": "markdown",
   "metadata": {
    "pycharm": {
     "name": "#%% md\n"
    }
   },
   "source": [
    "## Create new variables\n",
    "\n",
    "1. Create integer type variable ```vowel_count_premise``` which stores the number of vowels in a ```premise```. Repeat for ```hypothesis```.\n",
    "2. Create integer type variable with possible values ```1```, ```2```, ```3``` that counts how many annotations a single example received.\n",
    "3. Create boolean type variable ```agreement``` which reflects whether all annotators agreed on the label."
   ]
  },
  {
   "cell_type": "markdown",
   "metadata": {
    "pycharm": {
     "name": "#%% md\n"
    }
   },
   "source": [
    "## Save dataframes\n",
    "\n",
    "1. Save the original dataset to disk in a ```csv``` format.\n",
    "..."
   ]
  }
 ],
 "metadata": {
  "kernelspec": {
   "display_name": "Python 3",
   "language": "python",
   "name": "python3"
  },
  "language_info": {
   "codemirror_mode": {
    "name": "ipython",
    "version": 3
   },
   "file_extension": ".py",
   "mimetype": "text/x-python",
   "name": "python",
   "nbconvert_exporter": "python",
   "pygments_lexer": "ipython3",
   "version": "3.9.6"
  }
 },
 "nbformat": 4,
 "nbformat_minor": 1
}
